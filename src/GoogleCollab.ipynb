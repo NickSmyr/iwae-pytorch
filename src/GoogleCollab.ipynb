{
  "nbformat": 4,
  "nbformat_minor": 0,
  "metadata": {
    "colab": {
      "name": "Untitled2.ipynb",
      "provenance": [],
      "collapsed_sections": []
    },
    "kernelspec": {
      "name": "python3",
      "display_name": "Python 3"
    },
    "language_info": {
      "name": "python"
    }
  },
  "cells": [
    {
      "cell_type": "markdown",
      "source": [
        "\n",
        "# Code to download IWAE data\n",
        "\n"
      ],
      "metadata": {
        "id": "-AuTxcB_fXiV"
      }
    },
    {
      "cell_type": "code",
      "execution_count": 129,
      "metadata": {
        "colab": {
          "base_uri": "https://localhost:8080/"
        },
        "id": "JRZYHnPYQhwh",
        "outputId": "da8381e7-8285-44c0-bc67-6d0cadd9ff71"
      },
      "outputs": [
        {
          "output_type": "stream",
          "name": "stdout",
          "text": [
            "Mounted at /content/gdrive\n"
          ]
        }
      ],
      "source": [
        "from google.colab import drive\n",
        "drive._mount('/content/gdrive', force_remount=True)"
      ]
    },
    {
      "cell_type": "code",
      "source": [
        "# Install wget as python package for easier code\n",
        "!pip install wget"
      ],
      "metadata": {
        "colab": {
          "base_uri": "https://localhost:8080/"
        },
        "id": "KSmRKgqgXD7n",
        "outputId": "6af91a3a-31fe-4d43-8603-6ea2b57d339c"
      },
      "execution_count": 130,
      "outputs": [
        {
          "output_type": "stream",
          "name": "stdout",
          "text": [
            "Requirement already satisfied: wget in /usr/local/lib/python3.7/dist-packages (3.2)\n"
          ]
        }
      ]
    },
    {
      "cell_type": "code",
      "source": [
        "# Imports\n",
        "import wget\n",
        "from tqdm import tqdm\n",
        "import gzip\n",
        "import shutil\n",
        "import os"
      ],
      "metadata": {
        "id": "PP9DofeYXKr-"
      },
      "execution_count": 132,
      "outputs": []
    },
    {
      "cell_type": "code",
      "source": [
        "# Functions\n",
        "def unzip_gz(filepath):\n",
        "  # Open file with gzip encoding\n",
        "  with gzip.open(filepath, 'rb') as f_in:\n",
        "      # Uncompress the file and remove .gz ending\n",
        "      with open(filepath[:-3], 'wb') as f_out:\n",
        "          shutil.copyfileobj(f_in, f_out)\n",
        "\n",
        "def download_data():\n",
        "  # Create data directory\n",
        "  !mkdir {data_dir}\n",
        "  !mkdir {mnist_path}\n",
        "  !mkdir {data_dir + \"/OMNIGLOT\"}\n",
        "  !mkdir {data_dir + \"/BinaryMNIST\"}\n",
        "  # Download omniglot data\n",
        "  wget.download(omniglot_link, out=omniglot_file_path)\n",
        "  # Download mnist data\n",
        "  wget.download(mnist_train_images_link, out=mnist_path)\n",
        "  wget.download(mnist_train_labels_link, out=mnist_path)\n",
        "  wget.download(mnist_test_images_link, out=mnist_path)\n",
        "  wget.download(mnist_test_labels_link, out=mnist_path)\n",
        "  # Unzip mnist data\n",
        "  for filename in os.listdir(mnist_path):\n",
        "    f = os.path.join(mnist_path, filename)\n",
        "    unzip_gz(f)\n",
        "    os.remove(f)\n",
        "  # Download bmnist data\n",
        "  wget.download(bmnist_train_link, out=bmnist_path)\n",
        "  wget.download(bmnist_val_link, out=bmnist_path)\n",
        "  wget.download(bmnist_test_link, out=bmnist_path)\n",
        "\n",
        "# Links and Paths\n",
        "data_dir = \"./data\"\n",
        "\n",
        "omniglot_link = \"https://github.com/yburda/iwae/raw/master/datasets/OMNIGLOT/chardata.mat\"\n",
        "omniglot_file_path = data_dir + \"/OMNIGLOT/chardata.mat\"\n",
        "\n",
        "mnist_train_images_link = \"http://yann.lecun.com/exdb/mnist/train-images-idx3-ubyte.gz\"\n",
        "mnist_train_labels_link = \"http://yann.lecun.com/exdb/mnist/train-labels-idx1-ubyte.gz\"\n",
        "mnist_test_images_link = \"http://yann.lecun.com/exdb/mnist/t10k-images-idx3-ubyte.gz\"\n",
        "mnist_test_labels_link = \"http://yann.lecun.com/exdb/mnist/t10k-labels-idx1-ubyte.gz\"\n",
        "mnist_path = data_dir + \"/MNIST/\"\n",
        "\n",
        "bmnist_train_link = \"http://www.cs.toronto.edu/~larocheh/public/datasets/binarized_mnist/binarized_mnist_train.amat\"\n",
        "bmnist_val_link = \"http://www.cs.toronto.edu/~larocheh/public/datasets/binarized_mnist/binarized_mnist_valid.amat\"\n",
        "bmnist_test_link = \"http://www.cs.toronto.edu/~larocheh/public/datasets/binarized_mnist/binarized_mnist_test.amat\"\n",
        "bmnist_path = data_dir + \"/BinaryMNIST/\""
      ],
      "metadata": {
        "id": "TySwwsbrYAbq"
      },
      "execution_count": 133,
      "outputs": []
    },
    {
      "cell_type": "code",
      "source": [
        "if not os.path.exists(data_dir):\n",
        "  download_data()\n",
        "else:\n",
        "  print(\"Data directory already exists. If it is corrupt delete it \"+\n",
        "  \"and rerun this script\")\n"
      ],
      "metadata": {
        "colab": {
          "base_uri": "https://localhost:8080/"
        },
        "id": "0EEx1J8rROzS",
        "outputId": "40b6d9f4-f665-4bf1-b33a-802e6d06cd7d"
      },
      "execution_count": 136,
      "outputs": [
        {
          "output_type": "stream",
          "name": "stdout",
          "text": [
            "Data directory already exists. If it is corrupt delete and rerun this script\n"
          ]
        }
      ]
    },
    {
      "cell_type": "code",
      "source": [
        "!ls -R data"
      ],
      "metadata": {
        "colab": {
          "base_uri": "https://localhost:8080/"
        },
        "id": "W1Ix3iR4fjq1",
        "outputId": "64f5449e-f04b-4a6f-a1d1-dd3599a61ad4"
      },
      "execution_count": 135,
      "outputs": [
        {
          "output_type": "stream",
          "name": "stdout",
          "text": [
            "data:\n",
            "BinaryMNIST  MNIST  OMNIGLOT\n",
            "\n",
            "data/BinaryMNIST:\n",
            "binarized_mnist_test.amat   binarized_mnist_valid.amat\n",
            "binarized_mnist_train.amat\n",
            "\n",
            "data/MNIST:\n",
            "t10k-images-idx3-ubyte\ttrain-images-idx3-ubyte\n",
            "t10k-labels-idx1-ubyte\ttrain-labels-idx1-ubyte\n",
            "\n",
            "data/OMNIGLOT:\n",
            "chardata.mat\n"
          ]
        }
      ]
    }
  ]
}