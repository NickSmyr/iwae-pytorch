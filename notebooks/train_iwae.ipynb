{
  "nbformat": 4,
  "nbformat_minor": 0,
  "metadata": {
    "colab": {
      "name": "train_iwae.ipynb",
      "provenance": [],
      "collapsed_sections": []
    },
    "kernelspec": {
      "name": "python3",
      "display_name": "Python 3"
    },
    "language_info": {
      "name": "python"
    },
    "accelerator": "GPU"
  },
  "cells": [
    {
      "cell_type": "markdown",
      "source": [
        "# 1) Clone GH repo and Mount Google Drive install packages"
      ],
      "metadata": {
        "id": "-AuTxcB_fXiV",
        "pycharm": {
          "name": "#%% md\n"
        }
      }
    },
    {
      "cell_type": "markdown",
      "source": [
        "## 1.1) Mount Drive and define paths\n",
        "Run provided colab code to mount Google Drive. Then define dataset paths relative to mount point."
      ],
      "metadata": {
        "collapsed": false,
        "id": "HPsuHhzoCI4X"
      }
    },
    {
      "cell_type": "code",
      "source": [
        "from google.colab import drive\n",
        "mount_root_abs = '/content/drive'\n",
        "drive.mount(mount_root_abs)\n",
        "drive_root = f'{mount_root_abs}/MyDrive/IWAE'\n",
        "\n",
        "data_path = f'{drive_root}/data'\n",
        "chkpts_dir_path = f'{drive_root}/checkpoints'"
      ],
      "metadata": {
        "pycharm": {
          "name": "#%%\n"
        },
        "id": "z_cXoJJhCI4Y"
      },
      "execution_count": null,
      "outputs": []
    },
    {
      "cell_type": "markdown",
      "source": [
        "## 1.2) Mount Drive and define paths\n",
        "Clone kth-ml-course-projects/iwae-pytorch repo into /content/code using git clone. For more info see: https://medium.com/@purba0101/how-to-clone-private-github-repo-in-google-colab-using-ssh-77384cfef18f"
      ],
      "metadata": {
        "collapsed": false,
        "id": "D8xMqR_9CI4Z"
      }
    },
    {
      "cell_type": "code",
      "execution_count": null,
      "outputs": [],
      "source": [
        "import os\n",
        "\n",
        "repo_root = '/content/code/iwae-pytorch'\n",
        "!rm -rf $repo_root\n",
        "if not os.path.exists(repo_root):\n",
        "    # Check that ssh keys exist\n",
        "    assert os.path.exists(f'{drive_root}/ssh_keys')\n",
        "    id_rsa_abs_drive = f'{drive_root}/ssh_keys/id_rsa'\n",
        "    id_rsa_pub_abs_drive = f'{id_rsa_abs_drive}.pub'\n",
        "    assert os.path.exists(id_rsa_abs_drive)\n",
        "    assert os.path.exists(id_rsa_pub_abs_drive)\n",
        "    # On first run: Add ssh key in repo\n",
        "    if not os.path.exists('/root/.ssh'):\n",
        "        # Transfer config file\n",
        "        ssh_config_abs_drive = f'{drive_root}/ssh_keys/config'\n",
        "        assert os.path.exists(ssh_config_abs_drive)\n",
        "        !mkdir -p ~/.ssh\n",
        "        !cp -f \"$ssh_config_abs_drive\" ~/.ssh/\n",
        "        # # Add github.com to known hosts\n",
        "        !ssh-keyscan -t rsa github.com >> ~/.ssh/known_hosts\n",
        "        # Test: !ssh -T git@github.com\n",
        "\n",
        "    # Remove any previous attempts\n",
        "    !rm -rf \"$repo_root\"\n",
        "    !mkdir -p \"$repo_root\"\n",
        "    # Clone repo\n",
        "    !git clone git@github.com:kth-ml-course-projects/iwae-pytorch.git \"$repo_root\"\n",
        "    \n",
        "    # Fix issue with duplicated files\n",
        "    !rm -rf $repo_root/src-clone/dataloaders\n",
        "    !rm -rf $repo_root/src-clone/utils"
      ],
      "metadata": {
        "pycharm": {
          "name": "#%%\n"
        },
        "id": "Sl28iS5ECI4Z"
      }
    },
    {
      "cell_type": "markdown",
      "source": [
        "## 1.3) Install pip packages\n",
        "All required files are stored in a requirements.txt files at the repository's root.\n",
        "Use `pip install -r requirements.txt` from inside the dir to install required packages."
      ],
      "metadata": {
        "collapsed": false,
        "id": "jKZlMq1xCI4a"
      }
    },
    {
      "cell_type": "code",
      "execution_count": null,
      "outputs": [],
      "source": [
        "%cd \"$repo_root\"\n",
        "!pip install -r requirements.txt"
      ],
      "metadata": {
        "pycharm": {
          "name": "#%%\n"
        },
        "id": "ZZRvs7FUCI4a"
      }
    },
    {
      "cell_type": "code",
      "execution_count": null,
      "outputs": [],
      "source": [
        "import torch\n",
        "assert torch.cuda.is_available()\n",
        "print(torch.__version__)"
      ],
      "metadata": {
        "pycharm": {
          "name": "#%%\n"
        },
        "id": "QZCKpkP_CI4b"
      }
    },
    {
      "cell_type": "markdown",
      "source": [
        "## 1.5) Add code/, */src/ to path\n",
        "This is necessary in order to be able to run the modules."
      ],
      "metadata": {
        "collapsed": false,
        "id": "E1-vR8QmCI4b"
      }
    },
    {
      "cell_type": "code",
      "execution_count": null,
      "outputs": [],
      "source": [
        "content_root_abs = f'{repo_root}'\n",
        "src_root_abs = f'{repo_root}/src'\n",
        "# %env PYTHONPATH=\"/env/python:$content_root_abs:$src_root_abs\"\n",
        "%set_env PYTHONPATH=/env/python:$content_root_abs:$src_root_abs:$src_clone_root_abs"
      ],
      "metadata": {
        "pycharm": {
          "name": "#%%\n"
        },
        "id": "x3bNq8y5CI4c"
      }
    },
    {
      "cell_type": "markdown",
      "source": [
        "# 2) Train IWAE model on MNIST Dataset\n",
        "In this section we run the actual training loop for IWAE network. IWAE consists of a 1 or 2 stochastic layer encoder, and a mirrored decoder, where each stochastic layer consists of FC layers with `Tanh()` activations to produce the distribution parameters."
      ],
      "metadata": {
        "collapsed": false,
        "id": "nPQiHBsSCI4c"
      }
    },
    {
      "cell_type": "code",
      "execution_count": null,
      "outputs": [],
      "source": [
        "%cd \"$repo_root/src\"\n",
        "\n",
        "from train import train_and_save_checkpoints\n",
        "from ifaces import DownloadableDataset\n",
        "\n",
        "DownloadableDataset.set_data_directory(data_path)\n",
        "train_and_save_checkpoints( seed=42,\n",
        "                            cuda=True,\n",
        "                            k=50,\n",
        "                            num_layers=2,\n",
        "                            dataset='mnist',\n",
        "                            model_type='iwae',\n",
        "                            use_clone=False,\n",
        "                            batch_size=1000,\n",
        "                            debug=False,\n",
        "                            dtype=torch.float64,\n",
        "                            chkpts_dir_path=chkpts_dir_path)"
      ],
      "metadata": {
        "pycharm": {
          "name": "#%%\n"
        },
        "id": "c5xU1hYyCI4d"
      }
    }
  ]
}